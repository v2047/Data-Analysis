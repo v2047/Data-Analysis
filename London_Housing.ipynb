{
  "nbformat": 4,
  "nbformat_minor": 0,
  "metadata": {
    "colab": {
      "name": "London Housing",
      "provenance": [],
      "authorship_tag": "ABX9TyPX5HnVqIdINuPPF00mxr2g",
      "include_colab_link": true
    },
    "kernelspec": {
      "name": "python3",
      "display_name": "Python 3"
    },
    "language_info": {
      "name": "python"
    }
  },
  "cells": [
    {
      "cell_type": "markdown",
      "metadata": {
        "id": "view-in-github",
        "colab_type": "text"
      },
      "source": [
        "<a href=\"https://colab.research.google.com/github/v2047/Data-Analysis/blob/main/London_Housing.ipynb\" target=\"_parent\"><img src=\"https://colab.research.google.com/assets/colab-badge.svg\" alt=\"Open In Colab\"/></a>"
      ]
    },
    {
      "cell_type": "code",
      "metadata": {
        "id": "1IMUyss6UHXq"
      },
      "source": [
        "import pandas as pd"
      ],
      "execution_count": 54,
      "outputs": []
    },
    {
      "cell_type": "code",
      "metadata": {
        "colab": {
          "base_uri": "https://localhost:8080/"
        },
        "id": "g0UdUOmKWrJX",
        "outputId": "9a6139f5-22cd-42f0-d897-3c97ca9d0f5d"
      },
      "source": [
        "hosuing = pd.read_csv(\"/content/5. London Housing Data.csv\")\n",
        "print(hosuing)"
      ],
      "execution_count": 55,
      "outputs": [
        {
          "output_type": "stream",
          "text": [
            "            date            area  ...  houses_sold no_of_crimes\n",
            "0       1/1/1995  city of london  ...         17.0          NaN\n",
            "1       2/1/1995  city of london  ...          7.0          NaN\n",
            "2       3/1/1995  city of london  ...         14.0          NaN\n",
            "3       4/1/1995  city of london  ...          7.0          NaN\n",
            "4       5/1/1995  city of london  ...         10.0          NaN\n",
            "...          ...             ...  ...          ...          ...\n",
            "13544   9/1/2019         england  ...      64605.0          NaN\n",
            "13545  10/1/2019         england  ...      68677.0          NaN\n",
            "13546  11/1/2019         england  ...      67814.0          NaN\n",
            "13547  12/1/2019         england  ...          NaN          NaN\n",
            "13548   1/1/2020         england  ...          NaN          NaN\n",
            "\n",
            "[13549 rows x 6 columns]\n"
          ],
          "name": "stdout"
        }
      ]
    },
    {
      "cell_type": "code",
      "metadata": {
        "colab": {
          "base_uri": "https://localhost:8080/"
        },
        "id": "NsaDNOjQXDeY",
        "outputId": "aa0390ff-b9e4-44ab-b72b-d6e5ead71fc2"
      },
      "source": [
        "hosuing.shape"
      ],
      "execution_count": 56,
      "outputs": [
        {
          "output_type": "execute_result",
          "data": {
            "text/plain": [
              "(13549, 6)"
            ]
          },
          "metadata": {
            "tags": []
          },
          "execution_count": 56
        }
      ]
    },
    {
      "cell_type": "code",
      "metadata": {
        "colab": {
          "base_uri": "https://localhost:8080/",
          "height": 204
        },
        "id": "mOOuJFTEXKMo",
        "outputId": "372b0dd1-a0fe-4ec0-c4a3-ea81139a29f3"
      },
      "source": [
        "hosuing.head()"
      ],
      "execution_count": 57,
      "outputs": [
        {
          "output_type": "execute_result",
          "data": {
            "text/html": [
              "<div>\n",
              "<style scoped>\n",
              "    .dataframe tbody tr th:only-of-type {\n",
              "        vertical-align: middle;\n",
              "    }\n",
              "\n",
              "    .dataframe tbody tr th {\n",
              "        vertical-align: top;\n",
              "    }\n",
              "\n",
              "    .dataframe thead th {\n",
              "        text-align: right;\n",
              "    }\n",
              "</style>\n",
              "<table border=\"1\" class=\"dataframe\">\n",
              "  <thead>\n",
              "    <tr style=\"text-align: right;\">\n",
              "      <th></th>\n",
              "      <th>date</th>\n",
              "      <th>area</th>\n",
              "      <th>average_price</th>\n",
              "      <th>code</th>\n",
              "      <th>houses_sold</th>\n",
              "      <th>no_of_crimes</th>\n",
              "    </tr>\n",
              "  </thead>\n",
              "  <tbody>\n",
              "    <tr>\n",
              "      <th>0</th>\n",
              "      <td>1/1/1995</td>\n",
              "      <td>city of london</td>\n",
              "      <td>91449</td>\n",
              "      <td>E09000001</td>\n",
              "      <td>17.0</td>\n",
              "      <td>NaN</td>\n",
              "    </tr>\n",
              "    <tr>\n",
              "      <th>1</th>\n",
              "      <td>2/1/1995</td>\n",
              "      <td>city of london</td>\n",
              "      <td>82203</td>\n",
              "      <td>E09000001</td>\n",
              "      <td>7.0</td>\n",
              "      <td>NaN</td>\n",
              "    </tr>\n",
              "    <tr>\n",
              "      <th>2</th>\n",
              "      <td>3/1/1995</td>\n",
              "      <td>city of london</td>\n",
              "      <td>79121</td>\n",
              "      <td>E09000001</td>\n",
              "      <td>14.0</td>\n",
              "      <td>NaN</td>\n",
              "    </tr>\n",
              "    <tr>\n",
              "      <th>3</th>\n",
              "      <td>4/1/1995</td>\n",
              "      <td>city of london</td>\n",
              "      <td>77101</td>\n",
              "      <td>E09000001</td>\n",
              "      <td>7.0</td>\n",
              "      <td>NaN</td>\n",
              "    </tr>\n",
              "    <tr>\n",
              "      <th>4</th>\n",
              "      <td>5/1/1995</td>\n",
              "      <td>city of london</td>\n",
              "      <td>84409</td>\n",
              "      <td>E09000001</td>\n",
              "      <td>10.0</td>\n",
              "      <td>NaN</td>\n",
              "    </tr>\n",
              "  </tbody>\n",
              "</table>\n",
              "</div>"
            ],
            "text/plain": [
              "       date            area  ...  houses_sold no_of_crimes\n",
              "0  1/1/1995  city of london  ...         17.0          NaN\n",
              "1  2/1/1995  city of london  ...          7.0          NaN\n",
              "2  3/1/1995  city of london  ...         14.0          NaN\n",
              "3  4/1/1995  city of london  ...          7.0          NaN\n",
              "4  5/1/1995  city of london  ...         10.0          NaN\n",
              "\n",
              "[5 rows x 6 columns]"
            ]
          },
          "metadata": {
            "tags": []
          },
          "execution_count": 57
        }
      ]
    },
    {
      "cell_type": "code",
      "metadata": {
        "colab": {
          "base_uri": "https://localhost:8080/",
          "height": 204
        },
        "id": "ixx8z1k0XSfV",
        "outputId": "6cb71675-cb58-46cd-8aa9-5c8ddcbcdadc"
      },
      "source": [
        "hosuing.tail()"
      ],
      "execution_count": 58,
      "outputs": [
        {
          "output_type": "execute_result",
          "data": {
            "text/html": [
              "<div>\n",
              "<style scoped>\n",
              "    .dataframe tbody tr th:only-of-type {\n",
              "        vertical-align: middle;\n",
              "    }\n",
              "\n",
              "    .dataframe tbody tr th {\n",
              "        vertical-align: top;\n",
              "    }\n",
              "\n",
              "    .dataframe thead th {\n",
              "        text-align: right;\n",
              "    }\n",
              "</style>\n",
              "<table border=\"1\" class=\"dataframe\">\n",
              "  <thead>\n",
              "    <tr style=\"text-align: right;\">\n",
              "      <th></th>\n",
              "      <th>date</th>\n",
              "      <th>area</th>\n",
              "      <th>average_price</th>\n",
              "      <th>code</th>\n",
              "      <th>houses_sold</th>\n",
              "      <th>no_of_crimes</th>\n",
              "    </tr>\n",
              "  </thead>\n",
              "  <tbody>\n",
              "    <tr>\n",
              "      <th>13544</th>\n",
              "      <td>9/1/2019</td>\n",
              "      <td>england</td>\n",
              "      <td>249942</td>\n",
              "      <td>E92000001</td>\n",
              "      <td>64605.0</td>\n",
              "      <td>NaN</td>\n",
              "    </tr>\n",
              "    <tr>\n",
              "      <th>13545</th>\n",
              "      <td>10/1/2019</td>\n",
              "      <td>england</td>\n",
              "      <td>249376</td>\n",
              "      <td>E92000001</td>\n",
              "      <td>68677.0</td>\n",
              "      <td>NaN</td>\n",
              "    </tr>\n",
              "    <tr>\n",
              "      <th>13546</th>\n",
              "      <td>11/1/2019</td>\n",
              "      <td>england</td>\n",
              "      <td>248515</td>\n",
              "      <td>E92000001</td>\n",
              "      <td>67814.0</td>\n",
              "      <td>NaN</td>\n",
              "    </tr>\n",
              "    <tr>\n",
              "      <th>13547</th>\n",
              "      <td>12/1/2019</td>\n",
              "      <td>england</td>\n",
              "      <td>250410</td>\n",
              "      <td>E92000001</td>\n",
              "      <td>NaN</td>\n",
              "      <td>NaN</td>\n",
              "    </tr>\n",
              "    <tr>\n",
              "      <th>13548</th>\n",
              "      <td>1/1/2020</td>\n",
              "      <td>england</td>\n",
              "      <td>247355</td>\n",
              "      <td>E92000001</td>\n",
              "      <td>NaN</td>\n",
              "      <td>NaN</td>\n",
              "    </tr>\n",
              "  </tbody>\n",
              "</table>\n",
              "</div>"
            ],
            "text/plain": [
              "            date     area  average_price       code  houses_sold  no_of_crimes\n",
              "13544   9/1/2019  england         249942  E92000001      64605.0           NaN\n",
              "13545  10/1/2019  england         249376  E92000001      68677.0           NaN\n",
              "13546  11/1/2019  england         248515  E92000001      67814.0           NaN\n",
              "13547  12/1/2019  england         250410  E92000001          NaN           NaN\n",
              "13548   1/1/2020  england         247355  E92000001          NaN           NaN"
            ]
          },
          "metadata": {
            "tags": []
          },
          "execution_count": 58
        }
      ]
    },
    {
      "cell_type": "code",
      "metadata": {
        "colab": {
          "base_uri": "https://localhost:8080/",
          "height": 419
        },
        "id": "Wuu-3ucbXWm1",
        "outputId": "4edb19a7-2e28-4e2b-fec0-37f125508ef4"
      },
      "source": [
        "hosuing.isnull()"
      ],
      "execution_count": 59,
      "outputs": [
        {
          "output_type": "execute_result",
          "data": {
            "text/html": [
              "<div>\n",
              "<style scoped>\n",
              "    .dataframe tbody tr th:only-of-type {\n",
              "        vertical-align: middle;\n",
              "    }\n",
              "\n",
              "    .dataframe tbody tr th {\n",
              "        vertical-align: top;\n",
              "    }\n",
              "\n",
              "    .dataframe thead th {\n",
              "        text-align: right;\n",
              "    }\n",
              "</style>\n",
              "<table border=\"1\" class=\"dataframe\">\n",
              "  <thead>\n",
              "    <tr style=\"text-align: right;\">\n",
              "      <th></th>\n",
              "      <th>date</th>\n",
              "      <th>area</th>\n",
              "      <th>average_price</th>\n",
              "      <th>code</th>\n",
              "      <th>houses_sold</th>\n",
              "      <th>no_of_crimes</th>\n",
              "    </tr>\n",
              "  </thead>\n",
              "  <tbody>\n",
              "    <tr>\n",
              "      <th>0</th>\n",
              "      <td>False</td>\n",
              "      <td>False</td>\n",
              "      <td>False</td>\n",
              "      <td>False</td>\n",
              "      <td>False</td>\n",
              "      <td>True</td>\n",
              "    </tr>\n",
              "    <tr>\n",
              "      <th>1</th>\n",
              "      <td>False</td>\n",
              "      <td>False</td>\n",
              "      <td>False</td>\n",
              "      <td>False</td>\n",
              "      <td>False</td>\n",
              "      <td>True</td>\n",
              "    </tr>\n",
              "    <tr>\n",
              "      <th>2</th>\n",
              "      <td>False</td>\n",
              "      <td>False</td>\n",
              "      <td>False</td>\n",
              "      <td>False</td>\n",
              "      <td>False</td>\n",
              "      <td>True</td>\n",
              "    </tr>\n",
              "    <tr>\n",
              "      <th>3</th>\n",
              "      <td>False</td>\n",
              "      <td>False</td>\n",
              "      <td>False</td>\n",
              "      <td>False</td>\n",
              "      <td>False</td>\n",
              "      <td>True</td>\n",
              "    </tr>\n",
              "    <tr>\n",
              "      <th>4</th>\n",
              "      <td>False</td>\n",
              "      <td>False</td>\n",
              "      <td>False</td>\n",
              "      <td>False</td>\n",
              "      <td>False</td>\n",
              "      <td>True</td>\n",
              "    </tr>\n",
              "    <tr>\n",
              "      <th>...</th>\n",
              "      <td>...</td>\n",
              "      <td>...</td>\n",
              "      <td>...</td>\n",
              "      <td>...</td>\n",
              "      <td>...</td>\n",
              "      <td>...</td>\n",
              "    </tr>\n",
              "    <tr>\n",
              "      <th>13544</th>\n",
              "      <td>False</td>\n",
              "      <td>False</td>\n",
              "      <td>False</td>\n",
              "      <td>False</td>\n",
              "      <td>False</td>\n",
              "      <td>True</td>\n",
              "    </tr>\n",
              "    <tr>\n",
              "      <th>13545</th>\n",
              "      <td>False</td>\n",
              "      <td>False</td>\n",
              "      <td>False</td>\n",
              "      <td>False</td>\n",
              "      <td>False</td>\n",
              "      <td>True</td>\n",
              "    </tr>\n",
              "    <tr>\n",
              "      <th>13546</th>\n",
              "      <td>False</td>\n",
              "      <td>False</td>\n",
              "      <td>False</td>\n",
              "      <td>False</td>\n",
              "      <td>False</td>\n",
              "      <td>True</td>\n",
              "    </tr>\n",
              "    <tr>\n",
              "      <th>13547</th>\n",
              "      <td>False</td>\n",
              "      <td>False</td>\n",
              "      <td>False</td>\n",
              "      <td>False</td>\n",
              "      <td>True</td>\n",
              "      <td>True</td>\n",
              "    </tr>\n",
              "    <tr>\n",
              "      <th>13548</th>\n",
              "      <td>False</td>\n",
              "      <td>False</td>\n",
              "      <td>False</td>\n",
              "      <td>False</td>\n",
              "      <td>True</td>\n",
              "      <td>True</td>\n",
              "    </tr>\n",
              "  </tbody>\n",
              "</table>\n",
              "<p>13549 rows × 6 columns</p>\n",
              "</div>"
            ],
            "text/plain": [
              "        date   area  average_price   code  houses_sold  no_of_crimes\n",
              "0      False  False          False  False        False          True\n",
              "1      False  False          False  False        False          True\n",
              "2      False  False          False  False        False          True\n",
              "3      False  False          False  False        False          True\n",
              "4      False  False          False  False        False          True\n",
              "...      ...    ...            ...    ...          ...           ...\n",
              "13544  False  False          False  False        False          True\n",
              "13545  False  False          False  False        False          True\n",
              "13546  False  False          False  False        False          True\n",
              "13547  False  False          False  False         True          True\n",
              "13548  False  False          False  False         True          True\n",
              "\n",
              "[13549 rows x 6 columns]"
            ]
          },
          "metadata": {
            "tags": []
          },
          "execution_count": 59
        }
      ]
    },
    {
      "cell_type": "code",
      "metadata": {
        "colab": {
          "base_uri": "https://localhost:8080/"
        },
        "id": "6lf_y5yOXeFB",
        "outputId": "3c819033-5f0c-4ce5-a14b-874da49680e3"
      },
      "source": [
        "hosuing.isnull().sum()"
      ],
      "execution_count": 60,
      "outputs": [
        {
          "output_type": "execute_result",
          "data": {
            "text/plain": [
              "date                0\n",
              "area                0\n",
              "average_price       0\n",
              "code                0\n",
              "houses_sold        94\n",
              "no_of_crimes     6110\n",
              "dtype: int64"
            ]
          },
          "metadata": {
            "tags": []
          },
          "execution_count": 60
        }
      ]
    },
    {
      "cell_type": "code",
      "metadata": {
        "colab": {
          "base_uri": "https://localhost:8080/"
        },
        "id": "zvmJPKv6XoIX",
        "outputId": "97b45c53-df5b-46e5-ba49-f924076b9d32"
      },
      "source": [
        "hosuing.count()"
      ],
      "execution_count": 61,
      "outputs": [
        {
          "output_type": "execute_result",
          "data": {
            "text/plain": [
              "date             13549\n",
              "area             13549\n",
              "average_price    13549\n",
              "code             13549\n",
              "houses_sold      13455\n",
              "no_of_crimes      7439\n",
              "dtype: int64"
            ]
          },
          "metadata": {
            "tags": []
          },
          "execution_count": 61
        }
      ]
    },
    {
      "cell_type": "code",
      "metadata": {
        "colab": {
          "base_uri": "https://localhost:8080/"
        },
        "id": "NMK_OHUIX2Fb",
        "outputId": "4195f9ee-6f6a-439e-aab9-8d4a7dad375c"
      },
      "source": [
        "hosuing.columns"
      ],
      "execution_count": 62,
      "outputs": [
        {
          "output_type": "execute_result",
          "data": {
            "text/plain": [
              "Index(['date', 'area', 'average_price', 'code', 'houses_sold', 'no_of_crimes'], dtype='object')"
            ]
          },
          "metadata": {
            "tags": []
          },
          "execution_count": 62
        }
      ]
    },
    {
      "cell_type": "code",
      "metadata": {
        "colab": {
          "base_uri": "https://localhost:8080/"
        },
        "id": "ljnBeSpfX9yD",
        "outputId": "b055d0b1-327c-435c-e947-240044f9b2be"
      },
      "source": [
        "# convert data type of \"date\" column date time format \n",
        "hosuing.date = pd.to_datetime(hosuing.date)\n",
        "print(hosuing.date)\n"
      ],
      "execution_count": 63,
      "outputs": [
        {
          "output_type": "stream",
          "text": [
            "0       1995-01-01\n",
            "1       1995-02-01\n",
            "2       1995-03-01\n",
            "3       1995-04-01\n",
            "4       1995-05-01\n",
            "           ...    \n",
            "13544   2019-09-01\n",
            "13545   2019-10-01\n",
            "13546   2019-11-01\n",
            "13547   2019-12-01\n",
            "13548   2020-01-01\n",
            "Name: date, Length: 13549, dtype: datetime64[ns]\n"
          ],
          "name": "stdout"
        }
      ]
    },
    {
      "cell_type": "code",
      "metadata": {
        "colab": {
          "base_uri": "https://localhost:8080/",
          "height": 419
        },
        "id": "dKqUFpZOZWl5",
        "outputId": "909be80d-45bb-426e-d81c-54df591f1afc"
      },
      "source": [
        "# Add a new columns \"year\" which contains only year.\n",
        "hosuing[\"year\"] = hosuing.date.dt.year\n",
        "hosuing"
      ],
      "execution_count": 64,
      "outputs": [
        {
          "output_type": "execute_result",
          "data": {
            "text/html": [
              "<div>\n",
              "<style scoped>\n",
              "    .dataframe tbody tr th:only-of-type {\n",
              "        vertical-align: middle;\n",
              "    }\n",
              "\n",
              "    .dataframe tbody tr th {\n",
              "        vertical-align: top;\n",
              "    }\n",
              "\n",
              "    .dataframe thead th {\n",
              "        text-align: right;\n",
              "    }\n",
              "</style>\n",
              "<table border=\"1\" class=\"dataframe\">\n",
              "  <thead>\n",
              "    <tr style=\"text-align: right;\">\n",
              "      <th></th>\n",
              "      <th>date</th>\n",
              "      <th>area</th>\n",
              "      <th>average_price</th>\n",
              "      <th>code</th>\n",
              "      <th>houses_sold</th>\n",
              "      <th>no_of_crimes</th>\n",
              "      <th>year</th>\n",
              "    </tr>\n",
              "  </thead>\n",
              "  <tbody>\n",
              "    <tr>\n",
              "      <th>0</th>\n",
              "      <td>1995-01-01</td>\n",
              "      <td>city of london</td>\n",
              "      <td>91449</td>\n",
              "      <td>E09000001</td>\n",
              "      <td>17.0</td>\n",
              "      <td>NaN</td>\n",
              "      <td>1995</td>\n",
              "    </tr>\n",
              "    <tr>\n",
              "      <th>1</th>\n",
              "      <td>1995-02-01</td>\n",
              "      <td>city of london</td>\n",
              "      <td>82203</td>\n",
              "      <td>E09000001</td>\n",
              "      <td>7.0</td>\n",
              "      <td>NaN</td>\n",
              "      <td>1995</td>\n",
              "    </tr>\n",
              "    <tr>\n",
              "      <th>2</th>\n",
              "      <td>1995-03-01</td>\n",
              "      <td>city of london</td>\n",
              "      <td>79121</td>\n",
              "      <td>E09000001</td>\n",
              "      <td>14.0</td>\n",
              "      <td>NaN</td>\n",
              "      <td>1995</td>\n",
              "    </tr>\n",
              "    <tr>\n",
              "      <th>3</th>\n",
              "      <td>1995-04-01</td>\n",
              "      <td>city of london</td>\n",
              "      <td>77101</td>\n",
              "      <td>E09000001</td>\n",
              "      <td>7.0</td>\n",
              "      <td>NaN</td>\n",
              "      <td>1995</td>\n",
              "    </tr>\n",
              "    <tr>\n",
              "      <th>4</th>\n",
              "      <td>1995-05-01</td>\n",
              "      <td>city of london</td>\n",
              "      <td>84409</td>\n",
              "      <td>E09000001</td>\n",
              "      <td>10.0</td>\n",
              "      <td>NaN</td>\n",
              "      <td>1995</td>\n",
              "    </tr>\n",
              "    <tr>\n",
              "      <th>...</th>\n",
              "      <td>...</td>\n",
              "      <td>...</td>\n",
              "      <td>...</td>\n",
              "      <td>...</td>\n",
              "      <td>...</td>\n",
              "      <td>...</td>\n",
              "      <td>...</td>\n",
              "    </tr>\n",
              "    <tr>\n",
              "      <th>13544</th>\n",
              "      <td>2019-09-01</td>\n",
              "      <td>england</td>\n",
              "      <td>249942</td>\n",
              "      <td>E92000001</td>\n",
              "      <td>64605.0</td>\n",
              "      <td>NaN</td>\n",
              "      <td>2019</td>\n",
              "    </tr>\n",
              "    <tr>\n",
              "      <th>13545</th>\n",
              "      <td>2019-10-01</td>\n",
              "      <td>england</td>\n",
              "      <td>249376</td>\n",
              "      <td>E92000001</td>\n",
              "      <td>68677.0</td>\n",
              "      <td>NaN</td>\n",
              "      <td>2019</td>\n",
              "    </tr>\n",
              "    <tr>\n",
              "      <th>13546</th>\n",
              "      <td>2019-11-01</td>\n",
              "      <td>england</td>\n",
              "      <td>248515</td>\n",
              "      <td>E92000001</td>\n",
              "      <td>67814.0</td>\n",
              "      <td>NaN</td>\n",
              "      <td>2019</td>\n",
              "    </tr>\n",
              "    <tr>\n",
              "      <th>13547</th>\n",
              "      <td>2019-12-01</td>\n",
              "      <td>england</td>\n",
              "      <td>250410</td>\n",
              "      <td>E92000001</td>\n",
              "      <td>NaN</td>\n",
              "      <td>NaN</td>\n",
              "      <td>2019</td>\n",
              "    </tr>\n",
              "    <tr>\n",
              "      <th>13548</th>\n",
              "      <td>2020-01-01</td>\n",
              "      <td>england</td>\n",
              "      <td>247355</td>\n",
              "      <td>E92000001</td>\n",
              "      <td>NaN</td>\n",
              "      <td>NaN</td>\n",
              "      <td>2020</td>\n",
              "    </tr>\n",
              "  </tbody>\n",
              "</table>\n",
              "<p>13549 rows × 7 columns</p>\n",
              "</div>"
            ],
            "text/plain": [
              "            date            area  ...  no_of_crimes  year\n",
              "0     1995-01-01  city of london  ...           NaN  1995\n",
              "1     1995-02-01  city of london  ...           NaN  1995\n",
              "2     1995-03-01  city of london  ...           NaN  1995\n",
              "3     1995-04-01  city of london  ...           NaN  1995\n",
              "4     1995-05-01  city of london  ...           NaN  1995\n",
              "...          ...             ...  ...           ...   ...\n",
              "13544 2019-09-01         england  ...           NaN  2019\n",
              "13545 2019-10-01         england  ...           NaN  2019\n",
              "13546 2019-11-01         england  ...           NaN  2019\n",
              "13547 2019-12-01         england  ...           NaN  2019\n",
              "13548 2020-01-01         england  ...           NaN  2020\n",
              "\n",
              "[13549 rows x 7 columns]"
            ]
          },
          "metadata": {
            "tags": []
          },
          "execution_count": 64
        }
      ]
    },
    {
      "cell_type": "code",
      "metadata": {
        "id": "wUqHOZSoaxLy"
      },
      "source": [
        "# add a new column month  at 2 index \n",
        "hosuing.insert(2,\"month\",hosuing.date.dt.month)\n"
      ],
      "execution_count": 65,
      "outputs": []
    },
    {
      "cell_type": "code",
      "metadata": {
        "colab": {
          "base_uri": "https://localhost:8080/",
          "height": 419
        },
        "id": "EUfWXeBGbbdY",
        "outputId": "c0040ac8-673a-47db-a155-5bdf7bac9a92"
      },
      "source": [
        "hosuing"
      ],
      "execution_count": 66,
      "outputs": [
        {
          "output_type": "execute_result",
          "data": {
            "text/html": [
              "<div>\n",
              "<style scoped>\n",
              "    .dataframe tbody tr th:only-of-type {\n",
              "        vertical-align: middle;\n",
              "    }\n",
              "\n",
              "    .dataframe tbody tr th {\n",
              "        vertical-align: top;\n",
              "    }\n",
              "\n",
              "    .dataframe thead th {\n",
              "        text-align: right;\n",
              "    }\n",
              "</style>\n",
              "<table border=\"1\" class=\"dataframe\">\n",
              "  <thead>\n",
              "    <tr style=\"text-align: right;\">\n",
              "      <th></th>\n",
              "      <th>date</th>\n",
              "      <th>area</th>\n",
              "      <th>month</th>\n",
              "      <th>average_price</th>\n",
              "      <th>code</th>\n",
              "      <th>houses_sold</th>\n",
              "      <th>no_of_crimes</th>\n",
              "      <th>year</th>\n",
              "    </tr>\n",
              "  </thead>\n",
              "  <tbody>\n",
              "    <tr>\n",
              "      <th>0</th>\n",
              "      <td>1995-01-01</td>\n",
              "      <td>city of london</td>\n",
              "      <td>1</td>\n",
              "      <td>91449</td>\n",
              "      <td>E09000001</td>\n",
              "      <td>17.0</td>\n",
              "      <td>NaN</td>\n",
              "      <td>1995</td>\n",
              "    </tr>\n",
              "    <tr>\n",
              "      <th>1</th>\n",
              "      <td>1995-02-01</td>\n",
              "      <td>city of london</td>\n",
              "      <td>2</td>\n",
              "      <td>82203</td>\n",
              "      <td>E09000001</td>\n",
              "      <td>7.0</td>\n",
              "      <td>NaN</td>\n",
              "      <td>1995</td>\n",
              "    </tr>\n",
              "    <tr>\n",
              "      <th>2</th>\n",
              "      <td>1995-03-01</td>\n",
              "      <td>city of london</td>\n",
              "      <td>3</td>\n",
              "      <td>79121</td>\n",
              "      <td>E09000001</td>\n",
              "      <td>14.0</td>\n",
              "      <td>NaN</td>\n",
              "      <td>1995</td>\n",
              "    </tr>\n",
              "    <tr>\n",
              "      <th>3</th>\n",
              "      <td>1995-04-01</td>\n",
              "      <td>city of london</td>\n",
              "      <td>4</td>\n",
              "      <td>77101</td>\n",
              "      <td>E09000001</td>\n",
              "      <td>7.0</td>\n",
              "      <td>NaN</td>\n",
              "      <td>1995</td>\n",
              "    </tr>\n",
              "    <tr>\n",
              "      <th>4</th>\n",
              "      <td>1995-05-01</td>\n",
              "      <td>city of london</td>\n",
              "      <td>5</td>\n",
              "      <td>84409</td>\n",
              "      <td>E09000001</td>\n",
              "      <td>10.0</td>\n",
              "      <td>NaN</td>\n",
              "      <td>1995</td>\n",
              "    </tr>\n",
              "    <tr>\n",
              "      <th>...</th>\n",
              "      <td>...</td>\n",
              "      <td>...</td>\n",
              "      <td>...</td>\n",
              "      <td>...</td>\n",
              "      <td>...</td>\n",
              "      <td>...</td>\n",
              "      <td>...</td>\n",
              "      <td>...</td>\n",
              "    </tr>\n",
              "    <tr>\n",
              "      <th>13544</th>\n",
              "      <td>2019-09-01</td>\n",
              "      <td>england</td>\n",
              "      <td>9</td>\n",
              "      <td>249942</td>\n",
              "      <td>E92000001</td>\n",
              "      <td>64605.0</td>\n",
              "      <td>NaN</td>\n",
              "      <td>2019</td>\n",
              "    </tr>\n",
              "    <tr>\n",
              "      <th>13545</th>\n",
              "      <td>2019-10-01</td>\n",
              "      <td>england</td>\n",
              "      <td>10</td>\n",
              "      <td>249376</td>\n",
              "      <td>E92000001</td>\n",
              "      <td>68677.0</td>\n",
              "      <td>NaN</td>\n",
              "      <td>2019</td>\n",
              "    </tr>\n",
              "    <tr>\n",
              "      <th>13546</th>\n",
              "      <td>2019-11-01</td>\n",
              "      <td>england</td>\n",
              "      <td>11</td>\n",
              "      <td>248515</td>\n",
              "      <td>E92000001</td>\n",
              "      <td>67814.0</td>\n",
              "      <td>NaN</td>\n",
              "      <td>2019</td>\n",
              "    </tr>\n",
              "    <tr>\n",
              "      <th>13547</th>\n",
              "      <td>2019-12-01</td>\n",
              "      <td>england</td>\n",
              "      <td>12</td>\n",
              "      <td>250410</td>\n",
              "      <td>E92000001</td>\n",
              "      <td>NaN</td>\n",
              "      <td>NaN</td>\n",
              "      <td>2019</td>\n",
              "    </tr>\n",
              "    <tr>\n",
              "      <th>13548</th>\n",
              "      <td>2020-01-01</td>\n",
              "      <td>england</td>\n",
              "      <td>1</td>\n",
              "      <td>247355</td>\n",
              "      <td>E92000001</td>\n",
              "      <td>NaN</td>\n",
              "      <td>NaN</td>\n",
              "      <td>2020</td>\n",
              "    </tr>\n",
              "  </tbody>\n",
              "</table>\n",
              "<p>13549 rows × 8 columns</p>\n",
              "</div>"
            ],
            "text/plain": [
              "            date            area  month  ...  houses_sold no_of_crimes  year\n",
              "0     1995-01-01  city of london      1  ...         17.0          NaN  1995\n",
              "1     1995-02-01  city of london      2  ...          7.0          NaN  1995\n",
              "2     1995-03-01  city of london      3  ...         14.0          NaN  1995\n",
              "3     1995-04-01  city of london      4  ...          7.0          NaN  1995\n",
              "4     1995-05-01  city of london      5  ...         10.0          NaN  1995\n",
              "...          ...             ...    ...  ...          ...          ...   ...\n",
              "13544 2019-09-01         england      9  ...      64605.0          NaN  2019\n",
              "13545 2019-10-01         england     10  ...      68677.0          NaN  2019\n",
              "13546 2019-11-01         england     11  ...      67814.0          NaN  2019\n",
              "13547 2019-12-01         england     12  ...          NaN          NaN  2019\n",
              "13548 2020-01-01         england      1  ...          NaN          NaN  2020\n",
              "\n",
              "[13549 rows x 8 columns]"
            ]
          },
          "metadata": {
            "tags": []
          },
          "execution_count": 66
        }
      ]
    },
    {
      "cell_type": "code",
      "metadata": {
        "id": "HPKxeKZXbsJH"
      },
      "source": [
        "# Remove the columns yera and month\n",
        "#hosuing.drop([\"year\"],axis = 1, inplace= True)"
      ],
      "execution_count": 67,
      "outputs": []
    },
    {
      "cell_type": "code",
      "metadata": {
        "id": "Fv881JyzcfrV"
      },
      "source": [
        "#hosuing.drop([\"month\"],axis = 1, inplace= True)"
      ],
      "execution_count": 68,
      "outputs": []
    },
    {
      "cell_type": "code",
      "metadata": {
        "id": "vAVUYN8OclBu"
      },
      "source": [
        "# we can remove in single line just write\n",
        "#hosuing.drop([\"month\",\"year\"],axis = 1, inplace= True)"
      ],
      "execution_count": 69,
      "outputs": []
    },
    {
      "cell_type": "code",
      "metadata": {
        "colab": {
          "base_uri": "https://localhost:8080/",
          "height": 419
        },
        "id": "QLwZH6MFcTS_",
        "outputId": "553efd6b-9d06-44c3-c003-469f9c749b02"
      },
      "source": [
        "hosuing"
      ],
      "execution_count": 70,
      "outputs": [
        {
          "output_type": "execute_result",
          "data": {
            "text/html": [
              "<div>\n",
              "<style scoped>\n",
              "    .dataframe tbody tr th:only-of-type {\n",
              "        vertical-align: middle;\n",
              "    }\n",
              "\n",
              "    .dataframe tbody tr th {\n",
              "        vertical-align: top;\n",
              "    }\n",
              "\n",
              "    .dataframe thead th {\n",
              "        text-align: right;\n",
              "    }\n",
              "</style>\n",
              "<table border=\"1\" class=\"dataframe\">\n",
              "  <thead>\n",
              "    <tr style=\"text-align: right;\">\n",
              "      <th></th>\n",
              "      <th>date</th>\n",
              "      <th>area</th>\n",
              "      <th>month</th>\n",
              "      <th>average_price</th>\n",
              "      <th>code</th>\n",
              "      <th>houses_sold</th>\n",
              "      <th>no_of_crimes</th>\n",
              "      <th>year</th>\n",
              "    </tr>\n",
              "  </thead>\n",
              "  <tbody>\n",
              "    <tr>\n",
              "      <th>0</th>\n",
              "      <td>1995-01-01</td>\n",
              "      <td>city of london</td>\n",
              "      <td>1</td>\n",
              "      <td>91449</td>\n",
              "      <td>E09000001</td>\n",
              "      <td>17.0</td>\n",
              "      <td>NaN</td>\n",
              "      <td>1995</td>\n",
              "    </tr>\n",
              "    <tr>\n",
              "      <th>1</th>\n",
              "      <td>1995-02-01</td>\n",
              "      <td>city of london</td>\n",
              "      <td>2</td>\n",
              "      <td>82203</td>\n",
              "      <td>E09000001</td>\n",
              "      <td>7.0</td>\n",
              "      <td>NaN</td>\n",
              "      <td>1995</td>\n",
              "    </tr>\n",
              "    <tr>\n",
              "      <th>2</th>\n",
              "      <td>1995-03-01</td>\n",
              "      <td>city of london</td>\n",
              "      <td>3</td>\n",
              "      <td>79121</td>\n",
              "      <td>E09000001</td>\n",
              "      <td>14.0</td>\n",
              "      <td>NaN</td>\n",
              "      <td>1995</td>\n",
              "    </tr>\n",
              "    <tr>\n",
              "      <th>3</th>\n",
              "      <td>1995-04-01</td>\n",
              "      <td>city of london</td>\n",
              "      <td>4</td>\n",
              "      <td>77101</td>\n",
              "      <td>E09000001</td>\n",
              "      <td>7.0</td>\n",
              "      <td>NaN</td>\n",
              "      <td>1995</td>\n",
              "    </tr>\n",
              "    <tr>\n",
              "      <th>4</th>\n",
              "      <td>1995-05-01</td>\n",
              "      <td>city of london</td>\n",
              "      <td>5</td>\n",
              "      <td>84409</td>\n",
              "      <td>E09000001</td>\n",
              "      <td>10.0</td>\n",
              "      <td>NaN</td>\n",
              "      <td>1995</td>\n",
              "    </tr>\n",
              "    <tr>\n",
              "      <th>...</th>\n",
              "      <td>...</td>\n",
              "      <td>...</td>\n",
              "      <td>...</td>\n",
              "      <td>...</td>\n",
              "      <td>...</td>\n",
              "      <td>...</td>\n",
              "      <td>...</td>\n",
              "      <td>...</td>\n",
              "    </tr>\n",
              "    <tr>\n",
              "      <th>13544</th>\n",
              "      <td>2019-09-01</td>\n",
              "      <td>england</td>\n",
              "      <td>9</td>\n",
              "      <td>249942</td>\n",
              "      <td>E92000001</td>\n",
              "      <td>64605.0</td>\n",
              "      <td>NaN</td>\n",
              "      <td>2019</td>\n",
              "    </tr>\n",
              "    <tr>\n",
              "      <th>13545</th>\n",
              "      <td>2019-10-01</td>\n",
              "      <td>england</td>\n",
              "      <td>10</td>\n",
              "      <td>249376</td>\n",
              "      <td>E92000001</td>\n",
              "      <td>68677.0</td>\n",
              "      <td>NaN</td>\n",
              "      <td>2019</td>\n",
              "    </tr>\n",
              "    <tr>\n",
              "      <th>13546</th>\n",
              "      <td>2019-11-01</td>\n",
              "      <td>england</td>\n",
              "      <td>11</td>\n",
              "      <td>248515</td>\n",
              "      <td>E92000001</td>\n",
              "      <td>67814.0</td>\n",
              "      <td>NaN</td>\n",
              "      <td>2019</td>\n",
              "    </tr>\n",
              "    <tr>\n",
              "      <th>13547</th>\n",
              "      <td>2019-12-01</td>\n",
              "      <td>england</td>\n",
              "      <td>12</td>\n",
              "      <td>250410</td>\n",
              "      <td>E92000001</td>\n",
              "      <td>NaN</td>\n",
              "      <td>NaN</td>\n",
              "      <td>2019</td>\n",
              "    </tr>\n",
              "    <tr>\n",
              "      <th>13548</th>\n",
              "      <td>2020-01-01</td>\n",
              "      <td>england</td>\n",
              "      <td>1</td>\n",
              "      <td>247355</td>\n",
              "      <td>E92000001</td>\n",
              "      <td>NaN</td>\n",
              "      <td>NaN</td>\n",
              "      <td>2020</td>\n",
              "    </tr>\n",
              "  </tbody>\n",
              "</table>\n",
              "<p>13549 rows × 8 columns</p>\n",
              "</div>"
            ],
            "text/plain": [
              "            date            area  month  ...  houses_sold no_of_crimes  year\n",
              "0     1995-01-01  city of london      1  ...         17.0          NaN  1995\n",
              "1     1995-02-01  city of london      2  ...          7.0          NaN  1995\n",
              "2     1995-03-01  city of london      3  ...         14.0          NaN  1995\n",
              "3     1995-04-01  city of london      4  ...          7.0          NaN  1995\n",
              "4     1995-05-01  city of london      5  ...         10.0          NaN  1995\n",
              "...          ...             ...    ...  ...          ...          ...   ...\n",
              "13544 2019-09-01         england      9  ...      64605.0          NaN  2019\n",
              "13545 2019-10-01         england     10  ...      68677.0          NaN  2019\n",
              "13546 2019-11-01         england     11  ...      67814.0          NaN  2019\n",
              "13547 2019-12-01         england     12  ...          NaN          NaN  2019\n",
              "13548 2020-01-01         england      1  ...          NaN          NaN  2020\n",
              "\n",
              "[13549 rows x 8 columns]"
            ]
          },
          "metadata": {
            "tags": []
          },
          "execution_count": 70
        }
      ]
    },
    {
      "cell_type": "code",
      "metadata": {
        "colab": {
          "base_uri": "https://localhost:8080/",
          "height": 419
        },
        "id": "4zpNLH5Cc1HE",
        "outputId": "48153471-4320-4d17-b38d-22e3564cfb22"
      },
      "source": [
        "# show all the records where No of crimes are 0.\n",
        "hosuing[hosuing[\"no_of_crimes\"] == 0]"
      ],
      "execution_count": 71,
      "outputs": [
        {
          "output_type": "execute_result",
          "data": {
            "text/html": [
              "<div>\n",
              "<style scoped>\n",
              "    .dataframe tbody tr th:only-of-type {\n",
              "        vertical-align: middle;\n",
              "    }\n",
              "\n",
              "    .dataframe tbody tr th {\n",
              "        vertical-align: top;\n",
              "    }\n",
              "\n",
              "    .dataframe thead th {\n",
              "        text-align: right;\n",
              "    }\n",
              "</style>\n",
              "<table border=\"1\" class=\"dataframe\">\n",
              "  <thead>\n",
              "    <tr style=\"text-align: right;\">\n",
              "      <th></th>\n",
              "      <th>date</th>\n",
              "      <th>area</th>\n",
              "      <th>month</th>\n",
              "      <th>average_price</th>\n",
              "      <th>code</th>\n",
              "      <th>houses_sold</th>\n",
              "      <th>no_of_crimes</th>\n",
              "      <th>year</th>\n",
              "    </tr>\n",
              "  </thead>\n",
              "  <tbody>\n",
              "    <tr>\n",
              "      <th>72</th>\n",
              "      <td>2001-01-01</td>\n",
              "      <td>city of london</td>\n",
              "      <td>1</td>\n",
              "      <td>284262</td>\n",
              "      <td>E09000001</td>\n",
              "      <td>24.0</td>\n",
              "      <td>0.0</td>\n",
              "      <td>2001</td>\n",
              "    </tr>\n",
              "    <tr>\n",
              "      <th>73</th>\n",
              "      <td>2001-02-01</td>\n",
              "      <td>city of london</td>\n",
              "      <td>2</td>\n",
              "      <td>198137</td>\n",
              "      <td>E09000001</td>\n",
              "      <td>37.0</td>\n",
              "      <td>0.0</td>\n",
              "      <td>2001</td>\n",
              "    </tr>\n",
              "    <tr>\n",
              "      <th>74</th>\n",
              "      <td>2001-03-01</td>\n",
              "      <td>city of london</td>\n",
              "      <td>3</td>\n",
              "      <td>189033</td>\n",
              "      <td>E09000001</td>\n",
              "      <td>44.0</td>\n",
              "      <td>0.0</td>\n",
              "      <td>2001</td>\n",
              "    </tr>\n",
              "    <tr>\n",
              "      <th>75</th>\n",
              "      <td>2001-04-01</td>\n",
              "      <td>city of london</td>\n",
              "      <td>4</td>\n",
              "      <td>205494</td>\n",
              "      <td>E09000001</td>\n",
              "      <td>38.0</td>\n",
              "      <td>0.0</td>\n",
              "      <td>2001</td>\n",
              "    </tr>\n",
              "    <tr>\n",
              "      <th>76</th>\n",
              "      <td>2001-05-01</td>\n",
              "      <td>city of london</td>\n",
              "      <td>5</td>\n",
              "      <td>223459</td>\n",
              "      <td>E09000001</td>\n",
              "      <td>30.0</td>\n",
              "      <td>0.0</td>\n",
              "      <td>2001</td>\n",
              "    </tr>\n",
              "    <tr>\n",
              "      <th>...</th>\n",
              "      <td>...</td>\n",
              "      <td>...</td>\n",
              "      <td>...</td>\n",
              "      <td>...</td>\n",
              "      <td>...</td>\n",
              "      <td>...</td>\n",
              "      <td>...</td>\n",
              "      <td>...</td>\n",
              "    </tr>\n",
              "    <tr>\n",
              "      <th>178</th>\n",
              "      <td>2009-11-01</td>\n",
              "      <td>city of london</td>\n",
              "      <td>11</td>\n",
              "      <td>397909</td>\n",
              "      <td>E09000001</td>\n",
              "      <td>11.0</td>\n",
              "      <td>0.0</td>\n",
              "      <td>2009</td>\n",
              "    </tr>\n",
              "    <tr>\n",
              "      <th>179</th>\n",
              "      <td>2009-12-01</td>\n",
              "      <td>city of london</td>\n",
              "      <td>12</td>\n",
              "      <td>411955</td>\n",
              "      <td>E09000001</td>\n",
              "      <td>16.0</td>\n",
              "      <td>0.0</td>\n",
              "      <td>2009</td>\n",
              "    </tr>\n",
              "    <tr>\n",
              "      <th>180</th>\n",
              "      <td>2010-01-01</td>\n",
              "      <td>city of london</td>\n",
              "      <td>1</td>\n",
              "      <td>464436</td>\n",
              "      <td>E09000001</td>\n",
              "      <td>20.0</td>\n",
              "      <td>0.0</td>\n",
              "      <td>2010</td>\n",
              "    </tr>\n",
              "    <tr>\n",
              "      <th>181</th>\n",
              "      <td>2010-02-01</td>\n",
              "      <td>city of london</td>\n",
              "      <td>2</td>\n",
              "      <td>490525</td>\n",
              "      <td>E09000001</td>\n",
              "      <td>9.0</td>\n",
              "      <td>0.0</td>\n",
              "      <td>2010</td>\n",
              "    </tr>\n",
              "    <tr>\n",
              "      <th>182</th>\n",
              "      <td>2010-03-01</td>\n",
              "      <td>city of london</td>\n",
              "      <td>3</td>\n",
              "      <td>498241</td>\n",
              "      <td>E09000001</td>\n",
              "      <td>15.0</td>\n",
              "      <td>0.0</td>\n",
              "      <td>2010</td>\n",
              "    </tr>\n",
              "  </tbody>\n",
              "</table>\n",
              "<p>104 rows × 8 columns</p>\n",
              "</div>"
            ],
            "text/plain": [
              "          date            area  month  ...  houses_sold no_of_crimes  year\n",
              "72  2001-01-01  city of london      1  ...         24.0          0.0  2001\n",
              "73  2001-02-01  city of london      2  ...         37.0          0.0  2001\n",
              "74  2001-03-01  city of london      3  ...         44.0          0.0  2001\n",
              "75  2001-04-01  city of london      4  ...         38.0          0.0  2001\n",
              "76  2001-05-01  city of london      5  ...         30.0          0.0  2001\n",
              "..         ...             ...    ...  ...          ...          ...   ...\n",
              "178 2009-11-01  city of london     11  ...         11.0          0.0  2009\n",
              "179 2009-12-01  city of london     12  ...         16.0          0.0  2009\n",
              "180 2010-01-01  city of london      1  ...         20.0          0.0  2010\n",
              "181 2010-02-01  city of london      2  ...          9.0          0.0  2010\n",
              "182 2010-03-01  city of london      3  ...         15.0          0.0  2010\n",
              "\n",
              "[104 rows x 8 columns]"
            ]
          },
          "metadata": {
            "tags": []
          },
          "execution_count": 71
        }
      ]
    },
    {
      "cell_type": "code",
      "metadata": {
        "colab": {
          "base_uri": "https://localhost:8080/"
        },
        "id": "z9CBI_Fedbta",
        "outputId": "ce52636e-585c-4c56-f255-5620b4c8b01d"
      },
      "source": [
        "len(hosuing[hosuing[\"no_of_crimes\"] == 0])"
      ],
      "execution_count": 72,
      "outputs": [
        {
          "output_type": "execute_result",
          "data": {
            "text/plain": [
              "104"
            ]
          },
          "metadata": {
            "tags": []
          },
          "execution_count": 72
        }
      ]
    },
    {
      "cell_type": "code",
      "metadata": {
        "colab": {
          "base_uri": "https://localhost:8080/"
        },
        "id": "EiWSHM52diot",
        "outputId": "f7341d3b-b610-4573-c2c8-f7e6ae60a2f5"
      },
      "source": [
        "# maximun and minimum \"average_price\" per year in england.\n",
        "df = hosuing[hosuing.area == 'england' ]\n",
        "df.groupby(\"year\").average_price.max()\n"
      ],
      "execution_count": 73,
      "outputs": [
        {
          "output_type": "execute_result",
          "data": {
            "text/plain": [
              "year\n",
              "1995     53901\n",
              "1996     55755\n",
              "1997     61564\n",
              "1998     65743\n",
              "1999     75071\n",
              "2000     84191\n",
              "2001     95992\n",
              "2002    119982\n",
              "2003    138985\n",
              "2004    160330\n",
              "2005    167244\n",
              "2006    182031\n",
              "2007    194764\n",
              "2008    191750\n",
              "2009    174136\n",
              "2010    180807\n",
              "2011    177335\n",
              "2012    180129\n",
              "2013    188544\n",
              "2014    203639\n",
              "2015    219582\n",
              "2016    231922\n",
              "2017    242628\n",
              "2018    248620\n",
              "2019    250410\n",
              "2020    247355\n",
              "Name: average_price, dtype: int64"
            ]
          },
          "metadata": {
            "tags": []
          },
          "execution_count": 73
        }
      ]
    },
    {
      "cell_type": "code",
      "metadata": {
        "colab": {
          "base_uri": "https://localhost:8080/"
        },
        "id": "a2lAMFI5f9_G",
        "outputId": "d859410e-82d3-4d93-e5d2-375ca9147052"
      },
      "source": [
        "df.groupby(\"year\").average_price.min()\n"
      ],
      "execution_count": 75,
      "outputs": [
        {
          "output_type": "execute_result",
          "data": {
            "text/plain": [
              "3909794"
            ]
          },
          "metadata": {
            "tags": []
          },
          "execution_count": 75
        }
      ]
    },
    {
      "cell_type": "code",
      "metadata": {
        "colab": {
          "base_uri": "https://localhost:8080/"
        },
        "id": "RBN2cNYJgMWr",
        "outputId": "b4ec90d7-d81e-4464-d07d-82469d77c4e1"
      },
      "source": [
        "df.groupby(\"year\").average_price.max().sum()\n"
      ],
      "execution_count": 76,
      "outputs": [
        {
          "output_type": "execute_result",
          "data": {
            "text/plain": [
              "4192410"
            ]
          },
          "metadata": {
            "tags": []
          },
          "execution_count": 76
        }
      ]
    },
    {
      "cell_type": "code",
      "metadata": {
        "colab": {
          "base_uri": "https://localhost:8080/"
        },
        "id": "2nztsQq8gMcK",
        "outputId": "e3b48292-ca7a-4829-9228-1e008c67d9a2"
      },
      "source": [
        "df.groupby(\"year\").average_price.min().sum()\n"
      ],
      "execution_count": 77,
      "outputs": [
        {
          "output_type": "execute_result",
          "data": {
            "text/plain": [
              "3909794"
            ]
          },
          "metadata": {
            "tags": []
          },
          "execution_count": 77
        }
      ]
    },
    {
      "cell_type": "code",
      "metadata": {
        "colab": {
          "base_uri": "https://localhost:8080/",
          "height": 111
        },
        "id": "u4pBGlF0g3DS",
        "outputId": "353132ce-81d6-4233-fd6c-ab7624f04f25"
      },
      "source": [
        "hosuing.head(2)"
      ],
      "execution_count": 78,
      "outputs": [
        {
          "output_type": "execute_result",
          "data": {
            "text/html": [
              "<div>\n",
              "<style scoped>\n",
              "    .dataframe tbody tr th:only-of-type {\n",
              "        vertical-align: middle;\n",
              "    }\n",
              "\n",
              "    .dataframe tbody tr th {\n",
              "        vertical-align: top;\n",
              "    }\n",
              "\n",
              "    .dataframe thead th {\n",
              "        text-align: right;\n",
              "    }\n",
              "</style>\n",
              "<table border=\"1\" class=\"dataframe\">\n",
              "  <thead>\n",
              "    <tr style=\"text-align: right;\">\n",
              "      <th></th>\n",
              "      <th>date</th>\n",
              "      <th>area</th>\n",
              "      <th>month</th>\n",
              "      <th>average_price</th>\n",
              "      <th>code</th>\n",
              "      <th>houses_sold</th>\n",
              "      <th>no_of_crimes</th>\n",
              "      <th>year</th>\n",
              "    </tr>\n",
              "  </thead>\n",
              "  <tbody>\n",
              "    <tr>\n",
              "      <th>0</th>\n",
              "      <td>1995-01-01</td>\n",
              "      <td>city of london</td>\n",
              "      <td>1</td>\n",
              "      <td>91449</td>\n",
              "      <td>E09000001</td>\n",
              "      <td>17.0</td>\n",
              "      <td>NaN</td>\n",
              "      <td>1995</td>\n",
              "    </tr>\n",
              "    <tr>\n",
              "      <th>1</th>\n",
              "      <td>1995-02-01</td>\n",
              "      <td>city of london</td>\n",
              "      <td>2</td>\n",
              "      <td>82203</td>\n",
              "      <td>E09000001</td>\n",
              "      <td>7.0</td>\n",
              "      <td>NaN</td>\n",
              "      <td>1995</td>\n",
              "    </tr>\n",
              "  </tbody>\n",
              "</table>\n",
              "</div>"
            ],
            "text/plain": [
              "        date            area  month  ...  houses_sold no_of_crimes  year\n",
              "0 1995-01-01  city of london      1  ...         17.0          NaN  1995\n",
              "1 1995-02-01  city of london      2  ...          7.0          NaN  1995\n",
              "\n",
              "[2 rows x 8 columns]"
            ]
          },
          "metadata": {
            "tags": []
          },
          "execution_count": 78
        }
      ]
    },
    {
      "cell_type": "code",
      "metadata": {
        "colab": {
          "base_uri": "https://localhost:8080/"
        },
        "id": "BuDmkIe4gUFI",
        "outputId": "53792e49-1fb5-429d-89b8-65b5d700d5c6"
      },
      "source": [
        "hosuing.groupby(\"area\").no_of_crimes.max()\n"
      ],
      "execution_count": 79,
      "outputs": [
        {
          "output_type": "execute_result",
          "data": {
            "text/plain": [
              "area\n",
              "barking and dagenham      2049.0\n",
              "barnet                    2893.0\n",
              "bexley                    1914.0\n",
              "brent                     2937.0\n",
              "bromley                   2637.0\n",
              "camden                    4558.0\n",
              "city of london              10.0\n",
              "croydon                   3263.0\n",
              "ealing                    3401.0\n",
              "east midlands                NaN\n",
              "east of england              NaN\n",
              "enfield                   2798.0\n",
              "england                      NaN\n",
              "greenwich                 2853.0\n",
              "hackney                   3466.0\n",
              "hammersmith and fulham    2645.0\n",
              "haringey                  3199.0\n",
              "harrow                    1763.0\n",
              "havering                  1956.0\n",
              "hillingdon                2819.0\n",
              "hounslow                  2817.0\n",
              "inner london                 NaN\n",
              "islington                 3384.0\n",
              "kensington and chelsea    2778.0\n",
              "kingston upon thames      1379.0\n",
              "lambeth                   4701.0\n",
              "lewisham                  2813.0\n",
              "london                       NaN\n",
              "merton                    1623.0\n",
              "newham                    3668.0\n",
              "north east                   NaN\n",
              "north west                   NaN\n",
              "outer london                 NaN\n",
              "redbridge                 2560.0\n",
              "richmond upon thames      1551.0\n",
              "south east                   NaN\n",
              "south west                   NaN\n",
              "southwark                 3821.0\n",
              "sutton                    1425.0\n",
              "tower hamlets             3316.0\n",
              "waltham forest            2941.0\n",
              "wandsworth                3051.0\n",
              "west midlands                NaN\n",
              "westminster               7461.0\n",
              "yorks and the humber         NaN\n",
              "Name: no_of_crimes, dtype: float64"
            ]
          },
          "metadata": {
            "tags": []
          },
          "execution_count": 79
        }
      ]
    },
    {
      "cell_type": "code",
      "metadata": {
        "colab": {
          "base_uri": "https://localhost:8080/"
        },
        "id": "foHdqotchCW0",
        "outputId": "0bd4e4b3-f3f7-482d-e2f5-c5b021ef3055"
      },
      "source": [
        "hosuing.groupby(\"area\").no_of_crimes.max().sum()"
      ],
      "execution_count": 80,
      "outputs": [
        {
          "output_type": "execute_result",
          "data": {
            "text/plain": [
              "94450.0"
            ]
          },
          "metadata": {
            "tags": []
          },
          "execution_count": 80
        }
      ]
    },
    {
      "cell_type": "code",
      "metadata": {
        "colab": {
          "base_uri": "https://localhost:8080/"
        },
        "id": "bV-aUaNBhJHd",
        "outputId": "9f4c39e0-5d91-4719-f846-4259b4a0c9dc"
      },
      "source": [
        "hosuing.groupby(\"area\").no_of_crimes.max().sort_values(ascending = True)"
      ],
      "execution_count": 81,
      "outputs": [
        {
          "output_type": "execute_result",
          "data": {
            "text/plain": [
              "area\n",
              "city of london              10.0\n",
              "kingston upon thames      1379.0\n",
              "sutton                    1425.0\n",
              "richmond upon thames      1551.0\n",
              "merton                    1623.0\n",
              "harrow                    1763.0\n",
              "bexley                    1914.0\n",
              "havering                  1956.0\n",
              "barking and dagenham      2049.0\n",
              "redbridge                 2560.0\n",
              "bromley                   2637.0\n",
              "hammersmith and fulham    2645.0\n",
              "kensington and chelsea    2778.0\n",
              "enfield                   2798.0\n",
              "lewisham                  2813.0\n",
              "hounslow                  2817.0\n",
              "hillingdon                2819.0\n",
              "greenwich                 2853.0\n",
              "barnet                    2893.0\n",
              "brent                     2937.0\n",
              "waltham forest            2941.0\n",
              "wandsworth                3051.0\n",
              "haringey                  3199.0\n",
              "croydon                   3263.0\n",
              "tower hamlets             3316.0\n",
              "islington                 3384.0\n",
              "ealing                    3401.0\n",
              "hackney                   3466.0\n",
              "newham                    3668.0\n",
              "southwark                 3821.0\n",
              "camden                    4558.0\n",
              "lambeth                   4701.0\n",
              "westminster               7461.0\n",
              "east midlands                NaN\n",
              "east of england              NaN\n",
              "england                      NaN\n",
              "inner london                 NaN\n",
              "london                       NaN\n",
              "north east                   NaN\n",
              "north west                   NaN\n",
              "outer london                 NaN\n",
              "south east                   NaN\n",
              "south west                   NaN\n",
              "west midlands                NaN\n",
              "yorks and the humber         NaN\n",
              "Name: no_of_crimes, dtype: float64"
            ]
          },
          "metadata": {
            "tags": []
          },
          "execution_count": 81
        }
      ]
    },
    {
      "cell_type": "code",
      "metadata": {
        "colab": {
          "base_uri": "https://localhost:8080/"
        },
        "id": "4x6oUFndhclF",
        "outputId": "a74c2b5d-9b69-4b23-d3e4-b9398fc69d2e"
      },
      "source": [
        "hosuing.groupby(\"area\").no_of_crimes.min().sort_values(ascending = True)"
      ],
      "execution_count": 82,
      "outputs": [
        {
          "output_type": "execute_result",
          "data": {
            "text/plain": [
              "area\n",
              "city of london               0.0\n",
              "kingston upon thames       692.0\n",
              "richmond upon thames       700.0\n",
              "sutton                     787.0\n",
              "merton                     819.0\n",
              "bexley                     860.0\n",
              "harrow                     937.0\n",
              "havering                  1130.0\n",
              "barking and dagenham      1217.0\n",
              "hammersmith and fulham    1323.0\n",
              "kensington and chelsea    1347.0\n",
              "bromley                   1441.0\n",
              "hillingdon                1445.0\n",
              "redbridge                 1487.0\n",
              "greenwich                 1513.0\n",
              "hounslow                  1529.0\n",
              "haringey                  1536.0\n",
              "waltham forest            1575.0\n",
              "wandsworth                1582.0\n",
              "enfield                   1635.0\n",
              "tower hamlets             1646.0\n",
              "lewisham                  1675.0\n",
              "barnet                    1703.0\n",
              "brent                     1850.0\n",
              "hackney                   1870.0\n",
              "ealing                    1871.0\n",
              "islington                 1871.0\n",
              "croydon                   2031.0\n",
              "camden                    2079.0\n",
              "newham                    2130.0\n",
              "southwark                 2267.0\n",
              "lambeth                   2381.0\n",
              "westminster               3504.0\n",
              "east midlands                NaN\n",
              "east of england              NaN\n",
              "england                      NaN\n",
              "inner london                 NaN\n",
              "london                       NaN\n",
              "north east                   NaN\n",
              "north west                   NaN\n",
              "outer london                 NaN\n",
              "south east                   NaN\n",
              "south west                   NaN\n",
              "west midlands                NaN\n",
              "yorks and the humber         NaN\n",
              "Name: no_of_crimes, dtype: float64"
            ]
          },
          "metadata": {
            "tags": []
          },
          "execution_count": 82
        }
      ]
    },
    {
      "cell_type": "code",
      "metadata": {
        "colab": {
          "base_uri": "https://localhost:8080/"
        },
        "id": "ErGQAsS7hkhH",
        "outputId": "bf83cc6a-7788-4fb8-b289-e53f3c6522da"
      },
      "source": [
        "# show the total count of records of each area, where average price is less  than 100000\n",
        "hosuing[hosuing.average_price < 100000].area.value_counts()"
      ],
      "execution_count": 85,
      "outputs": [
        {
          "output_type": "execute_result",
          "data": {
            "text/plain": [
              "north east              112\n",
              "north west              111\n",
              "yorks and the humber    110\n",
              "east midlands            96\n",
              "west midlands            94\n",
              "england                  87\n",
              "barking and dagenham     85\n",
              "south west               78\n",
              "east of england          76\n",
              "newham                   72\n",
              "waltham forest           64\n",
              "bexley                   64\n",
              "lewisham                 62\n",
              "havering                 60\n",
              "south east               59\n",
              "greenwich                59\n",
              "croydon                  57\n",
              "sutton                   54\n",
              "enfield                  54\n",
              "hackney                  53\n",
              "redbridge                52\n",
              "southwark                48\n",
              "tower hamlets            47\n",
              "outer london             46\n",
              "hillingdon               44\n",
              "hounslow                 41\n",
              "lambeth                  41\n",
              "brent                    40\n",
              "london                   39\n",
              "merton                   35\n",
              "bromley                  33\n",
              "haringey                 33\n",
              "inner london             31\n",
              "ealing                   31\n",
              "kingston upon thames     30\n",
              "harrow                   30\n",
              "wandsworth               26\n",
              "barnet                   25\n",
              "islington                19\n",
              "city of london           11\n",
              "Name: area, dtype: int64"
            ]
          },
          "metadata": {
            "tags": []
          },
          "execution_count": 85
        }
      ]
    }
  ]
}