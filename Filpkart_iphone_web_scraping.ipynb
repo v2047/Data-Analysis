{
  "nbformat": 4,
  "nbformat_minor": 0,
  "metadata": {
    "colab": {
      "name": "Filpkart iphone web scraping",
      "provenance": [],
      "authorship_tag": "ABX9TyN9F+iDRQhu9zH0svdolkkz",
      "include_colab_link": true
    },
    "kernelspec": {
      "name": "python3",
      "display_name": "Python 3"
    },
    "language_info": {
      "name": "python"
    }
  },
  "cells": [
    {
      "cell_type": "markdown",
      "metadata": {
        "id": "view-in-github",
        "colab_type": "text"
      },
      "source": [
        "<a href=\"https://colab.research.google.com/github/v2047/Data-Analysis/blob/main/Filpkart_iphone_web_scraping.ipynb\" target=\"_parent\"><img src=\"https://colab.research.google.com/assets/colab-badge.svg\" alt=\"Open In Colab\"/></a>"
      ]
    },
    {
      "cell_type": "code",
      "metadata": {
        "id": "aCPAkyrpXylx"
      },
      "source": [
        "#Problem Statement Scrap Filpkart Website and fecth datails like - name of the product, price and ratings of the searched product\n"
      ],
      "execution_count": 57,
      "outputs": []
    },
    {
      "cell_type": "code",
      "metadata": {
        "id": "C1FJ8HcDa3su"
      },
      "source": [
        "import requests\n",
        "from bs4 import BeautifulSoup as soup\n",
        "from urllib.request import urlopen as ureq"
      ],
      "execution_count": 58,
      "outputs": []
    },
    {
      "cell_type": "code",
      "metadata": {
        "id": "YpblI-iRb0Fw"
      },
      "source": [
        "url = \"https://www.flipkart.com/search?q=iphone+11&sid=tyy%2C4io&as=on&as-show=on&otracker=AS_QueryStore_OrganicAutoSuggest_1_3_na_na_na&otracker1=AS_QueryStore_OrganicAutoSuggest_\"\n",
        "uclient = ureq(url)\n",
        "page_html = uclient.read()\n",
        "page_soup = soup(page_html,\"html.parser\")"
      ],
      "execution_count": 59,
      "outputs": []
    },
    {
      "cell_type": "code",
      "metadata": {
        "colab": {
          "base_uri": "https://localhost:8080/"
        },
        "id": "6ucs_FmlfAgf",
        "outputId": "cc380db1-db97-4bdb-be9b-7da3850b340f"
      },
      "source": [
        "containers = page_soup.findAll(\"div\",{\"class\" :\"_13oc-S\"})\n",
        "print(len(containers))"
      ],
      "execution_count": 60,
      "outputs": [
        {
          "output_type": "stream",
          "text": [
            "24\n"
          ],
          "name": "stdout"
        }
      ]
    },
    {
      "cell_type": "code",
      "metadata": {
        "colab": {
          "base_uri": "https://localhost:8080/"
        },
        "id": "IKOOfHEFcANr",
        "outputId": "19805d7f-6858-4cf5-8898-43c90d3c63c0"
      },
      "source": [
        "print(soup.prettify(containers[0]))\n",
        "\n"
      ],
      "execution_count": 61,
      "outputs": [
        {
          "output_type": "stream",
          "text": [
            "<div class=\"_13oc-S\">\n",
            " <div data-id=\"MOBFWQ6BXGJCEYNY\" style=\"width:100%\">\n",
            "  <div class=\"_2kHMtA\">\n",
            "   <a class=\"_1fQZEK\" href=\"/apple-iphone-11-black-64-gb/p/itm4e5041ba101fd?pid=MOBFWQ6BXGJCEYNY&amp;lid=LSTMOBFWQ6BXGJCEYNYZXSHRJ&amp;marketplace=FLIPKART&amp;q=iphone+11&amp;store=tyy%2F4io&amp;srno=s_1_1&amp;otracker=AS_QueryStore_OrganicAutoSuggest_1_3_na_na_na&amp;otracker1=AS_QueryStore_OrganicAutoSuggest_&amp;fm=organic&amp;iid=2a2bf92b-0b19-4269-9a65-abbaa20e3547.MOBFWQ6BXGJCEYNY.SEARCH&amp;ppt=None&amp;ppn=None&amp;ssid=bve7q10y800000001625993735098&amp;qH=f6cdfdaa9f3c23f3\" rel=\"noopener noreferrer\" target=\"_blank\">\n",
            "    <div class=\"MIXNux\">\n",
            "     <div class=\"_2QcLo-\">\n",
            "      <div>\n",
            "       <div class=\"CXW8mj\" style=\"height:200px;width:200px\">\n",
            "        <img alt=\"APPLE iPhone 11 (Black, 64 GB)\" class=\"_396cs4 _3exPp9\" src=\"https://rukminim1.flixcart.com/image/312/312/kgiaykw0/mobile/y/n/y/apple-iphone-11-mhda3hn-a-original-imafwqepdb3fxtug.jpeg?q=70\"/>\n",
            "       </div>\n",
            "      </div>\n",
            "     </div>\n",
            "     <div class=\"_3wLduG\">\n",
            "      <div class=\"_3PzNI-\">\n",
            "       <span class=\"f3A4_V\">\n",
            "        <label class=\"_2iDkf8\">\n",
            "         <input class=\"_30VH1S\" readonly=\"\" type=\"checkbox\"/>\n",
            "         <div class=\"_24_Dny\">\n",
            "         </div>\n",
            "        </label>\n",
            "       </span>\n",
            "       <label class=\"_6Up2sF\">\n",
            "        <span>\n",
            "         Add to Compare\n",
            "        </span>\n",
            "       </label>\n",
            "      </div>\n",
            "     </div>\n",
            "     <div class=\"_2hVSre _3nq8ih\">\n",
            "      <div class=\"_36FSn5\">\n",
            "       <svg class=\"_1l0elc\" height=\"16\" viewbox=\"0 0 20 16\" width=\"16\" xmlns=\"http://www.w3.org/2000/svg\">\n",
            "        <path class=\"eX72wL\" d=\"M8.695 16.682C4.06 12.382 1 9.536 1 6.065 1 3.219 3.178 1 5.95 1c1.566 0 3.069.746 4.05 1.915C10.981 1.745 12.484 1 14.05 1 16.822 1 19 3.22 19 6.065c0 3.471-3.06 6.316-7.695 10.617L10 17.897l-1.305-1.215z\" fill=\"#2874F0\" fill-rule=\"evenodd\" opacity=\".9\" stroke=\"#FFF\">\n",
            "        </path>\n",
            "       </svg>\n",
            "      </div>\n",
            "     </div>\n",
            "    </div>\n",
            "    <div class=\"_3pLy-c row\">\n",
            "     <div class=\"col col-7-12\">\n",
            "      <div class=\"_4rR01T\">\n",
            "       APPLE iPhone 11 (Black, 64 GB)\n",
            "      </div>\n",
            "      <div class=\"gUuXy-\">\n",
            "       <span class=\"_1lRcqv\" id=\"productRating_LSTMOBFWQ6BXGJCEYNYZXSHRJ_MOBFWQ6BXGJCEYNY_\">\n",
            "        <div class=\"_3LWZlK\">\n",
            "         4.6\n",
            "         <img class=\"_1wB99o\" src=\"data:image/svg+xml;base64,PHN2ZyB4bWxucz0iaHR0cDovL3d3dy53My5vcmcvMjAwMC9zdmciIHdpZHRoPSIxMyIgaGVpZ2h0PSIxMiI+PHBhdGggZmlsbD0iI0ZGRiIgZD0iTTYuNSA5LjQzOWwtMy42NzQgMi4yMy45NC00LjI2LTMuMjEtMi44ODMgNC4yNTQtLjQwNEw2LjUuMTEybDEuNjkgNC4wMSA0LjI1NC40MDQtMy4yMSAyLjg4Mi45NCA0LjI2eiIvPjwvc3ZnPg==\"/>\n",
            "        </div>\n",
            "       </span>\n",
            "       <span class=\"_2_R_DZ\">\n",
            "        <span>\n",
            "         <span>\n",
            "          68,059 Ratings\n",
            "         </span>\n",
            "         <span class=\"_13vcmD\">\n",
            "          &amp;\n",
            "         </span>\n",
            "         <span>\n",
            "          5,211 Reviews\n",
            "         </span>\n",
            "        </span>\n",
            "       </span>\n",
            "      </div>\n",
            "      <div class=\"fMghEO\">\n",
            "       <ul class=\"_1xgFaf\">\n",
            "        <li class=\"rgWa7D\">\n",
            "         64 GB ROM\n",
            "        </li>\n",
            "        <li class=\"rgWa7D\">\n",
            "         15.49 cm (6.1 inch) Liquid Retina HD Display\n",
            "        </li>\n",
            "        <li class=\"rgWa7D\">\n",
            "         12MP + 12MP | 12MP Front Camera\n",
            "        </li>\n",
            "        <li class=\"rgWa7D\">\n",
            "         A13 Bionic Chip Processor\n",
            "        </li>\n",
            "        <li class=\"rgWa7D\">\n",
            "         Brand Warranty of 1 Year\n",
            "        </li>\n",
            "       </ul>\n",
            "      </div>\n",
            "     </div>\n",
            "     <div class=\"col col-5-12 nlI3QM\">\n",
            "      <div class=\"_3tbKJL\">\n",
            "       <div class=\"_25b18c\">\n",
            "        <div class=\"_30jeq3 _1_WHN1\">\n",
            "         ₹51,999\n",
            "        </div>\n",
            "        <div class=\"_3I9_wc _27UcVY\">\n",
            "         ₹\n",
            "         <!-- -->\n",
            "         54,900\n",
            "        </div>\n",
            "        <div class=\"_3Ay6Sb\">\n",
            "         <span>\n",
            "          5% off\n",
            "         </span>\n",
            "        </div>\n",
            "       </div>\n",
            "      </div>\n",
            "      <div class=\"_13J9qT\">\n",
            "       <img height=\"21\" src=\"//static-assets-web.flixcart.com/www/linchpin/fk-cp-zion/img/fa_62673a.png\"/>\n",
            "      </div>\n",
            "      <div class=\"_2ZdXDB\">\n",
            "       <div class=\"_3xFhiH\">\n",
            "        <div class=\"_2Tpdn3 _18hQoS\" style=\"color:#000000;font-size:14px;font-style:normal;font-weight:400\">\n",
            "         Upto\n",
            "        </div>\n",
            "        <div class=\"_2Tpdn3 _18hQoS\" style=\"color:#000000;font-size:14px;font-style:normal;font-weight:700\">\n",
            "         ₹15,300\n",
            "        </div>\n",
            "        <div class=\"_2Tpdn3 _18hQoS\" style=\"color:#000000;font-size:14px;font-style:normal;font-weight:400\">\n",
            "         Off on Exchange\n",
            "        </div>\n",
            "       </div>\n",
            "      </div>\n",
            "     </div>\n",
            "    </div>\n",
            "   </a>\n",
            "  </div>\n",
            " </div>\n",
            "</div>\n"
          ],
          "name": "stdout"
        }
      ]
    },
    {
      "cell_type": "code",
      "metadata": {
        "colab": {
          "base_uri": "https://localhost:8080/"
        },
        "id": "uAuRfy8YlAG7",
        "outputId": "5761b69d-48be-4b5f-b088-5535f6e498bc"
      },
      "source": [
        "container = containers[0]\n",
        "print(container.div.img[\"alt\"])"
      ],
      "execution_count": 62,
      "outputs": [
        {
          "output_type": "stream",
          "text": [
            "APPLE iPhone 11 (Black, 64 GB)\n"
          ],
          "name": "stdout"
        }
      ]
    },
    {
      "cell_type": "code",
      "metadata": {
        "colab": {
          "base_uri": "https://localhost:8080/"
        },
        "id": "sNrt_R2HlfzS",
        "outputId": "e1d6453c-31eb-4d72-81c7-1d8c69f64239"
      },
      "source": [
        "price = container.findAll(\"div\" ,{\"class\" :\"col col-5-12 nlI3QM\"})\n",
        "print(price[0].text)"
      ],
      "execution_count": 63,
      "outputs": [
        {
          "output_type": "stream",
          "text": [
            "₹51,999₹54,9005% offUpto ₹15,300 Off on Exchange\n"
          ],
          "name": "stdout"
        }
      ]
    },
    {
      "cell_type": "code",
      "metadata": {
        "colab": {
          "base_uri": "https://localhost:8080/"
        },
        "id": "OtLUBMHMmam3",
        "outputId": "25c44944-d726-49f8-f217-daba3ac14cd1"
      },
      "source": [
        "ratings = container.findAll(\"div\" ,{\"class\" :\"_3LWZlK\"})\n",
        "print(ratings[0].text)\n"
      ],
      "execution_count": 64,
      "outputs": [
        {
          "output_type": "stream",
          "text": [
            "4.6\n"
          ],
          "name": "stdout"
        }
      ]
    },
    {
      "cell_type": "code",
      "metadata": {
        "colab": {
          "base_uri": "https://localhost:8080/"
        },
        "id": "ZMj90YgdrVNE",
        "outputId": "b65d9ef0-5ed1-4744-9848-193a9b2bc1a0"
      },
      "source": [
        "for container in containers:\n",
        "  product_name = container.div.img[\"alt\"]\n",
        "  price_iphone = container.findAll(\"div\" ,{\"class\" :\"col col-5-12 nlI3QM\"})\n",
        "  print(price_iphone[0].text.strip())\n",
        "  ratings_iphone = container.findAll(\"div\" ,{\"class\" :\"_3LWZlK\"}) \n",
        "  print(ratings[0].text)\n",
        "  \n",
        "\n"
      ],
      "execution_count": 65,
      "outputs": [
        {
          "output_type": "stream",
          "text": [
            "₹51,999₹54,9005% offUpto ₹15,300 Off on Exchange\n",
            "4.6\n",
            "₹51,999₹54,9005% offUpto ₹15,300 Off on Exchange\n",
            "4.6\n",
            "₹51,999₹54,9005% offUpto ₹15,300 Off on Exchange\n",
            "4.6\n",
            "₹51,999₹54,9005% offUpto ₹15,300 Off on Exchange\n",
            "4.6\n",
            "₹51,999₹54,9005% offUpto ₹15,300 Off on Exchange\n",
            "4.6\n",
            "₹58,999₹59,9001% offUpto ₹15,300 Off on Exchange\n",
            "4.6\n",
            "₹51,999₹54,9005% offUpto ₹15,300 Off on Exchange\n",
            "4.6\n",
            "₹58,999₹59,9001% offUpto ₹15,300 Off on Exchange\n",
            "4.6\n",
            "₹58,999₹59,9001% offUpto ₹15,300 Off on Exchange\n",
            "4.6\n",
            "₹51,999₹54,9005% offUpto ₹15,300 Off on Exchange\n",
            "4.6\n",
            "₹51,999₹54,9005% offUpto ₹15,300 Off on Exchange\n",
            "4.6\n",
            "₹58,999₹59,9001% offUpto ₹15,300 Off on Exchange\n",
            "4.6\n",
            "₹58,999₹59,9001% offUpto ₹15,300 Off on Exchange\n",
            "4.6\n",
            "₹68,999₹69,9001% offUpto ₹15,300 Off on Exchange\n",
            "4.6\n",
            "₹58,999₹59,9001% offUpto ₹15,300 Off on Exchange\n",
            "4.6\n",
            "₹58,999₹59,9001% offUpto ₹15,300 Off on Exchange\n",
            "4.6\n",
            "₹58,999₹59,9001% offUpto ₹15,300 Off on Exchange\n",
            "4.6\n",
            "₹51,999₹54,9005% offUpto ₹15,300 Off on Exchange\n",
            "4.6\n",
            "₹68,999₹69,9001% offUpto ₹15,300 Off on Exchange\n",
            "4.6\n",
            "₹58,999₹59,9001% offUpto ₹15,300 Off on Exchange\n",
            "4.6\n",
            "₹68,999₹69,9001% offUpto ₹15,300 Off on Exchange\n",
            "4.6\n",
            "₹68,999₹69,9001% offUpto ₹15,300 Off on Exchange\n",
            "4.6\n",
            "₹58,999₹59,9001% offUpto ₹15,300 Off on Exchange\n",
            "4.6\n",
            "₹68,999₹69,9001% offUpto ₹15,300 Off on Exchange\n",
            "4.6\n"
          ],
          "name": "stdout"
        }
      ]
    },
    {
      "cell_type": "code",
      "metadata": {
        "id": "cyht6ZtkwMw6"
      },
      "source": [
        "import pandas as pd\n"
      ],
      "execution_count": 66,
      "outputs": []
    },
    {
      "cell_type": "code",
      "metadata": {
        "id": "rirAC6DJwkfi"
      },
      "source": [
        "df = pd.DataFrame({'product_name':product_name,'price_iphone':price,' ratings_iphone':ratings}) \n",
        "df.to_csv('products.csv', index=False, encoding='utf-8')\n"
      ],
      "execution_count": 67,
      "outputs": []
    }
  ]
}